{
 "cells": [
  {
   "cell_type": "code",
   "execution_count": 6,
   "metadata": {
    "scrolled": true
   },
   "outputs": [],
   "source": [
    "import Distributions: rand"
   ]
  },
  {
   "cell_type": "code",
   "execution_count": 7,
   "metadata": {
    "scrolled": true
   },
   "outputs": [],
   "source": [
    "import Pkg\n",
    "using StatsFuns\n",
    "using SpecialFunctions\n",
    "using Distributions\n",
    "using PyPlot\n",
    "using ArgCheck\n",
    "using BenchmarkTools"
   ]
  },
  {
   "cell_type": "code",
   "execution_count": 8,
   "metadata": {},
   "outputs": [
    {
     "name": "stderr",
     "output_type": "stream",
     "text": [
      "┌ Info: Precompiling Flux [587475ba-b771-5e3f-ad9e-33799f191a9c]\n",
      "└ @ Base loading.jl:1260\n"
     ]
    }
   ],
   "source": [
    "import Flux: onehotbatch"
   ]
  },
  {
   "cell_type": "code",
   "execution_count": 92,
   "metadata": {
    "scrolled": true
   },
   "outputs": [
    {
     "data": {
      "image/png": "[encoded data removed]",
      "text/plain": [
       "Figure(PyObject <Figure size 640x480 with 1 Axes>)"
      ]
     },
     "metadata": {},
     "output_type": "display_data"
    },
    {
     "data": {
      "text/plain": [
       "MixtureModel{Univariate,Discrete,Poisson,CT} where CT<:Real"
      ]
     },
     "execution_count": 92,
     "metadata": {},
     "output_type": "execute_result"
    }
   ],
   "source": [
    "struct BayesianPMM\n",
    "    α::Float64\n",
    "    prior::Vector{Gamma}\n",
    "    BayesianPMM(α, prior) = new(α, prior)\n",
    "end\n",
    "\n",
    "function rand(model::BayesianPMM)\n",
    "    K = length(model.prior)\n",
    "    a = rand(Dirichlet(ones(K) .* model.α))\n",
    "    λ = rand.(model.prior)\n",
    "    MixtureModel(Poisson, λ, a)\n",
    "end\n",
    "\n",
    "α = 10\n",
    "K = 3\n",
    "N = 10000\n",
    "prior_λ = [Gamma(1, 50) for _ = 1:K]\n",
    "prior_model = BayesianPMM(α, prior_λ)\n",
    "model = rand(prior_model)\n",
    "data, S = generate_toy_data(model, N)\n",
    "hist(data, bins=50);\n",
    "\n",
    "const PMM = MixtureModel{Univariate, Discrete, Poisson}"
   ]
  },
  {
   "cell_type": "code",
   "execution_count": 34,
   "metadata": {
    "scrolled": true
   },
   "outputs": [
    {
     "data": {
      "text/plain": [
       "one_hot (generic function with 1 method)"
      ]
     },
     "execution_count": 34,
     "metadata": {},
     "output_type": "execute_result"
    }
   ],
   "source": [
    "function one_hot(model::PMM, N::Int)\n",
    "    K = length(model.components)\n",
    "    a = probs(model) # mixture weight\n",
    "    \n",
    "    # one hot vector of (K, N)\n",
    "    onehotbatch(rand(Categorical(a), N), collect(1:K)) \n",
    "end"
   ]
  },
  {
   "cell_type": "code",
   "execution_count": null,
   "metadata": {},
   "outputs": [],
   "source": [
    "function generate_toy_data(model::PMM, N::Int)\n",
    "    D = length(model)\n",
    "    \n",
    "    data = Array{eltype(model.components[1])}(undef, N, D)\n",
    "    # convert to vector if D == 1\n",
    "    D == 1 ? data = dropdims(data, dims = 2) : data\n",
    "    S = one_hot(model, N)\n",
    "    @inbounds for n = 1:N\n",
    "        s = argmax(S[:, n])\n",
    "        data[n, :] .= rand(model.components[s])\n",
    "    end\n",
    "    data, S\n",
    "end"
   ]
  },
  {
   "cell_type": "code",
   "execution_count": 167,
   "metadata": {
    "scrolled": true
   },
   "outputs": [
    {
     "data": {
      "text/plain": [
       "init_S (generic function with 1 method)"
      ]
     },
     "execution_count": 167,
     "metadata": {},
     "output_type": "execute_result"
    }
   ],
   "source": [
    "function init_S(data, prior_model::BayesianPMM)\n",
    "    N = size(data, 1)\n",
    "    K = length(prior_model.prior)\n",
    "    onehotbatch(rand(Categorical(ones(K)./K), N), collect(1:K))\n",
    "end"
   ]
  },
  {
   "cell_type": "code",
   "execution_count": 185,
   "metadata": {
    "scrolled": true
   },
   "outputs": [
    {
     "data": {
      "text/plain": [
       "3-element Array{Float64,1}:\n",
       " 3922.0\n",
       " 1850.0\n",
       " 4258.0"
      ]
     },
     "execution_count": 185,
     "metadata": {},
     "output_type": "execute_result"
    }
   ],
   "source": [
    "K = size(S, 1)\n",
    "sum_S = sum(S, dims=2)\n",
    "[prior_model.α + sum_S[k] for k = 1:K]"
   ]
  },
  {
   "cell_type": "code",
   "execution_count": 184,
   "metadata": {
    "scrolled": true
   },
   "outputs": [
    {
     "ename": "ErrorException",
     "evalue": "type BayesianPMM has no field alpha",
     "output_type": "error",
     "traceback": [
      "type BayesianPMM has no field alpha",
      "",
      "Stacktrace:",
      " [1] getproperty(::BayesianPMM, ::Symbol) at .\\Base.jl:33",
      " [2] (::var\"#50#51\")(::Int64) at .\\none:0",
      " [3] iterate at .\\generator.jl:47 [inlined]",
      " [4] collect(::Base.Generator{UnitRange{Int64},var\"#50#51\"}) at .\\array.jl:665",
      " [5] top-level scope at In[184]:1"
     ]
    }
   ],
   "source": [
    "[prior_model.α + sum_S[k] for k = 1:K]"
   ]
  },
  {
   "cell_type": "code",
   "execution_count": 188,
   "metadata": {},
   "outputs": [
    {
     "data": {
      "text/plain": [
       "add_stats (generic function with 1 method)"
      ]
     },
     "execution_count": 188,
     "metadata": {},
     "output_type": "execute_result"
    }
   ],
   "source": [
    "function add_stats(prior_model::BayesianPMM, data, S)\n",
    "    @argcheck length(prior_model.prior) == size(S, 1)\n",
    "    D = length(prior_model.prior[1])\n",
    "    K = size(S, 1)\n",
    "    sum_S = sum(S, dims=2)\n",
    "    α = [prior_model.α + sum_S[k] for k = 1:K]\n",
    "#     ここまで\n",
    "end"
   ]
  },
  {
   "cell_type": "code",
   "execution_count": null,
   "metadata": {},
   "outputs": [],
   "source": [
    "S_est, post_bpmm, VB = learn_VI(X, bpmm, max_iter)"
   ]
  },
  {
   "cell_type": "code",
   "execution_count": 153,
   "metadata": {},
   "outputs": [
    {
     "data": {
      "text/plain": [
       "variational_inference (generic function with 1 method)"
      ]
     },
     "execution_count": 153,
     "metadata": {},
     "output_type": "execute_result"
    }
   ],
   "source": [
    "function variational_inference(data::Matrix{Float64}, prior_model::BayesianPMM; maxiter::Int)\n",
    "    # initialisation\n",
    "    Ŝ = init_S(data, prior_model)\n",
    "    \n",
    "    bpmm = add_stats(prior_model, data, expt_S)\n",
    "    \n",
    "#     ↑ここまでやった\n",
    "    VB = NaN * zeros(max_iter)\n",
    "\n",
    "    # inference\n",
    "    for i in 1 : max_iter\n",
    "        # E-step\n",
    "        expt_S = exp.(update_S(bpmm, X))\n",
    "        # M-step\n",
    "        bpmm = add_stats(prior_bpmm, X, expt_S)\n",
    "        # calc VB\n",
    "        VB[i] = calc_ELBO(X, prior_bpmm, bpmm)\n",
    "    end\n",
    "\n",
    "    return expt_S, bpmm, VB\n",
    "end"
   ]
  },
  {
   "cell_type": "code",
   "execution_count": 158,
   "metadata": {
    "scrolled": true
   },
   "outputs": [
    {
     "data": {
      "text/plain": [
       "10.0"
      ]
     },
     "execution_count": 158,
     "metadata": {},
     "output_type": "execute_result"
    }
   ],
   "source": [
    "prior_model.α"
   ]
  },
  {
   "cell_type": "code",
   "execution_count": 156,
   "metadata": {},
   "outputs": [
    {
     "data": {
      "text/plain": [
       "init_S (generic function with 1 method)"
      ]
     },
     "execution_count": 156,
     "metadata": {},
     "output_type": "execute_result"
    }
   ],
   "source": [
    "function init_s(data, prior_model::BayesianPMM)\n",
    "    N = size(data, 1)\n",
    "    K = length(prior_model.prior)\n",
    "    one_hot(ones(K)./K, N)\n",
    "end"
   ]
  },
  {
   "cell_type": "code",
   "execution_count": 155,
   "metadata": {},
   "outputs": [
    {
     "ename": "MethodError",
     "evalue": "MethodError: no method matching one_hot(::Array{Float64,1}, ::Int64)\nClosest candidates are:\n  one_hot(!Matched::MixtureModel{Univariate,Discrete,Poisson,CT} where CT<:Real, ::Int64) at In[34]:2",
     "output_type": "error",
     "traceback": [
      "MethodError: no method matching one_hot(::Array{Float64,1}, ::Int64)\nClosest candidates are:\n  one_hot(!Matched::MixtureModel{Univariate,Discrete,Poisson,CT} where CT<:Real, ::Int64) at In[34]:2",
      "",
      "Stacktrace:",
      " [1] init_S(::Array{Int64,1}, ::BayesianPMM) at .\\In[154]:4",
      " [2] top-level scope at In[155]:1"
     ]
    }
   ],
   "source": [
    "init_S(data, prior_model)"
   ]
  },
  {
   "cell_type": "code",
   "execution_count": null,
   "metadata": {},
   "outputs": [],
   "source": [
    "function calc_ELBO(X::Matrix{Float64}, pri::BPMM, pos::BPMM)\n",
    "    ln_expt_S = update_S(pos, X)\n",
    "    expt_S = exp.(ln_expt_S)\n",
    "    K, N = size(expt_S)\n",
    "    D = size(X, 1)\n",
    "\n",
    "    expt_ln_lambda = zeros(D, K)\n",
    "    expt_lambda = zeros(D, K)\n",
    "    expt_ln_lkh = 0\n",
    "    for k in 1 : K\n",
    "        expt_ln_lambda[:,k] = digamma.(pos.cmp[k].a) - log.(pos.cmp[k].b)\n",
    "        expt_lambda[:,k] = pos.cmp[k].a / pos.cmp[k].b\n",
    "        for n in 1 : N\n",
    "            expt_ln_lkh += expt_S[k,n] * (X[:, n]' * expt_ln_lambda[:,k]\n",
    "                                       - sum(expt_lambda[:,k]) - sum(lgamma.(X[:,n]+1)))[1]\n",
    "        end\n",
    "    end\n",
    "    \n",
    "    expt_ln_pS = sum(expt_S' * (digamma.(pos.alpha) - digamma.(sum(pos.alpha))))\n",
    "    expt_ln_qS = sum(expt_S .* ln_expt_S)\n",
    "    \n",
    "    KL_lambda = 0\n",
    "    for k in 1 : K\n",
    "        KL_lambda += (sum(pos.cmp[k].a)*log.(pos.cmp[k].b) - sum(pri.cmp[k].a)*log.(pri.cmp[k].b)\n",
    "                      - sum(lgamma.(pos.cmp[k].a)) + sum(lgamma.(pri.cmp[k].a))\n",
    "                      + (pos.cmp[k].a - pri.cmp[k].a)' * expt_ln_lambda[:,k]\n",
    "                      + (pri.cmp[k].b - pos.cmp[k].b) * sum(expt_lambda[:,k])\n",
    "                      )[1]\n",
    "    end\n",
    "    KL_pi = (lgamma.(sum(pos.alpha)) - lgamma.(sum(pri.alpha))\n",
    "             - sum(lgamma.(pos.alpha)) + sum(lgamma.(pri.alpha))\n",
    "             + (pos.alpha - pri.alpha)' * (digamma.(pos.alpha) - digamma.(sum(pos.alpha)))\n",
    "             )[1]\n",
    "    \n",
    "    VB = expt_ln_lkh + expt_ln_pS - expt_ln_qS - (KL_lambda + KL_pi)\n",
    "    return VB\n",
    "end\n",
    "\n",
    "function add_stats(bpmm::BPMM, X::Matrix{Float64}, S::Matrix{Float64})\n",
    "    D = bpmm.D\n",
    "    K = bpmm.K\n",
    "    sum_S = sum(S, 2)\n",
    "    alpha = [bpmm.alpha[k] + sum_S[k] for k in 1 : K]\n",
    "    cmp = Vector{Gam}()\n",
    "\n",
    "    XS = X*S';\n",
    "    for k in 1 : K\n",
    "        a = [(bpmm.cmp[k].a[d] + XS[d,k])::Float64 for d in 1 : D]\n",
    "        b = bpmm.cmp[k].b + sum_S[k]\n",
    "        push!(cmp, Gam(a, b))\n",
    "    end\n",
    "    return BPMM(D, K, alpha, cmp)\n",
    "end\n",
    "\n",
    "remove_stats(bpmm::BPMM, X::Matrix{Float64}, S::Matrix{Float64}) = add_stats(bpmm, X, -S)\n",
    "\n",
    "####################\n",
    "## used for Variational Inference\n",
    "function update_S(bpmm::BPMM, X::Matrix{Float64})\n",
    "    D, N = size(X)\n",
    "    K = bpmm.K\n",
    "    ln_expt_S = zeros(K, N)\n",
    "    tmp = zeros(K)\n",
    "\n",
    "    sum_digamma_tmp = digamma.(sum(bpmm.alpha))\n",
    "    for k in 1 : K\n",
    "        tmp[k] = - sum(bpmm.cmp[k].a) / bpmm.cmp[k].b\n",
    "        tmp[k] += digamma.(bpmm.alpha[k]) - sum_digamma_tmp\n",
    "    end\n",
    "    ln_lambda_X = [X'*(digamma.(bpmm.cmp[k].a) - log.(bpmm.cmp[k].b)) for k in 1 : K]\n",
    "    for n in 1 : N\n",
    "        tmp_ln_pi =  [tmp[k] + ln_lambda_X[k][n] for k in 1 : K]\n",
    "        ln_expt_S[:,n] = tmp_ln_pi - logsumexp(tmp_ln_pi)\n",
    "    end\n",
    "    return ln_expt_S\n",
    "end\n",
    "\n",
    "\"\"\"\n",
    "Pick single states having a max probability.\n",
    "\"\"\"\n",
    "function winner_takes_all(S::Matrix{Float64})\n",
    "    S_ret = zeros(size(S))\n",
    "    for n in 1 : size(S_ret, 2)\n",
    "        idx = indmax(S[:,n])\n",
    "        S_ret[idx,n] = 1\n",
    "    end\n",
    "    return S_ret\n",
    "end\n",
    "\n",
    "####################\n",
    "## Algorithm main\n",
    "\"\"\"\n",
    "Compute posterior distribution via variational inference.\n",
    "\"\"\"\n",
    "function learn_VI(X::Matrix{Float64}, prior_bpmm::BPMM, max_iter::Int)\n",
    "    # initialisation\n",
    "    expt_S = init_S(X, prior_bpmm)\n",
    "    bpmm = add_stats(prior_bpmm, X, expt_S)\n",
    "    VB = NaN * zeros(max_iter)\n",
    "\n",
    "    # inference\n",
    "    for i in 1 : max_iter\n",
    "        # E-step\n",
    "        expt_S = exp.(update_S(bpmm, X))\n",
    "        # M-step\n",
    "        bpmm = add_stats(prior_bpmm, X, expt_S)\n",
    "        # calc VB\n",
    "        VB[i] = calc_ELBO(X, prior_bpmm, bpmm)\n",
    "    end\n",
    "\n",
    "    return expt_S, bpmm, VB\n",
    "end\n",
    "\n",
    "\"\"\"\n",
    "Compute posterior distribution via Gibbs sampling.\n",
    "\"\"\"\n",
    "function learn_GS(X::Matrix{Float64}, prior_bpmm::BPMM, max_iter::Int)\n",
    "    # initialisation\n",
    "    S = init_S(X, prior_bpmm)\n",
    "    bpmm = add_stats(prior_bpmm, X, S)\n",
    "    VB = NaN * zeros(max_iter)\n",
    "    \n",
    "    # inference\n",
    "    for i in 1 : max_iter            \n",
    "        # sample parameters\n",
    "        pmm = sample_PMM(bpmm)\n",
    "        # sample latent variables\n",
    "        S = sample_S_GS(pmm, X)\n",
    "        # update current model\n",
    "        bpmm = add_stats(prior_bpmm, X, S)\n",
    "        # calc VB\n",
    "        VB[i] = calc_ELBO(X, prior_bpmm, bpmm)\n",
    "    end\n",
    "\n",
    "    return S, bpmm, VB\n",
    "end\n",
    "\n",
    "\"\"\"\n",
    "Compute posterior distribution via collapsed Gibbs sampling.\n",
    "\"\"\"\n",
    "function learn_CGS(X::Matrix{Float64}, prior_bpmm::BPMM, max_iter::Int)\n",
    "    # initialisation\n",
    "    S = init_S(X, prior_bpmm)\n",
    "    bpmm = add_stats(prior_bpmm, X, S)\n",
    "    VB = NaN * zeros(max_iter)\n",
    "\n",
    "    # inference\n",
    "    for i in 1 : max_iter\n",
    "        # directly sample S\n",
    "        S, bpmm = sample_S_CGS(S, X, bpmm)\n",
    "        # calc VB\n",
    "        VB[i] = calc_ELBO(X, prior_bpmm, bpmm)\n",
    "    end\n",
    "\n",
    "    return S, bpmm, VB\n",
    "end\n",
    "\n",
    "end\n"
   ]
  }
 ],
 "metadata": {
  "kernelspec": {
   "display_name": "Julia 1.4.2",
   "language": "julia",
   "name": "julia-1.4"
  },
  "language_info": {
   "file_extension": ".jl",
   "mimetype": "application/julia",
   "name": "julia",
   "version": "1.4.2"
  },
  "toc": {
   "base_numbering": 1,
   "nav_menu": {},
   "number_sections": true,
   "sideBar": true,
   "skip_h1_title": false,
   "title_cell": "Table of Contents",
   "title_sidebar": "Contents",
   "toc_cell": false,
   "toc_position": {},
   "toc_section_display": true,
   "toc_window_display": false
  }
 },
 "nbformat": 4,
 "nbformat_minor": 4
}
