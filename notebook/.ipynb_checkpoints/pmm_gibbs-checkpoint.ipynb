{
 "cells": [
  {
   "cell_type": "code",
   "execution_count": 1,
   "metadata": {},
   "outputs": [],
   "source": [
    "using Random\n",
    "using BenchmarkTools\n",
    "using PyPlot\n",
    "using Distributions\n",
    "\n",
    "using StatsFuns"
   ]
  },
  {
   "cell_type": "code",
   "execution_count": 18,
   "metadata": {},
   "outputs": [
    {
     "data": {
      "text/plain": [
       "init_p (generic function with 1 method)"
      ]
     },
     "execution_count": 18,
     "metadata": {},
     "output_type": "execute_result"
    }
   ],
   "source": [
    "prior_α(K) = rand(Uniform(0, 100), K)\n",
    "init_λ(a, b, K) = rand(Gamma(a, 1/b), K)\n",
    "init_p(α) = rand(Dirichlet(α))"
   ]
  },
  {
   "cell_type": "code",
   "execution_count": null,
   "metadata": {},
   "outputs": [],
   "source": [
    "maxiter = 2000\n",
    "N = 1000"
   ]
  },
  {
   "cell_type": "code",
   "execution_count": null,
   "metadata": {},
   "outputs": [],
   "source": [
    "function gibbs_pmm(K)\n",
    "    a, b = 1, 0.01\n",
    "    true_λ = [100, 50, 15]\n",
    "    true_p = [0.5, 0.2, 0.3]\n",
    "    true_model = MixtureModel(Poisson, true_λ, true_p)\n",
    "    x = rand(true_model, N)\n",
    "    \n",
    "    α = prior_α(K)\n",
    "    λ = rand(Gamma(a, 1 ./ b), K)\n",
    "    p = rand(Dirichlet(α))\n",
    "    \n",
    "    λ_history = Matrix{Float64}(undef, maxiter, K)\n",
    "    p_history = Matrix{Float64}(undef, maxiter, K)\n",
    "    ll_history = Vector{Float64}(undef, maxiter)\n",
    "    ll_history[1] = sum(logpdf.(MixtureModel(Poisson, λ, p), x))\n",
    "    λ_history[1, :] .= λ\n",
    "    p_history[1, :] .= p\n",
    "    \n",
    "    sₙ = Matrix{Int}(undef, N, K)\n",
    "    η = Matrix{Float64}(undef, N, K)\n",
    "    \n",
    "    for i = 1:maxiter\n",
    "        fill!(sₙ, 0)\n",
    "        fill!(η, 0.0)\n",
    "        \n",
    "        \n",
    "end"
   ]
  },
  {
   "cell_type": "code",
   "execution_count": 97,
   "metadata": {},
   "outputs": [
    {
     "data": {
      "text/plain": [
       "sample_s! (generic function with 1 method)"
      ]
     },
     "execution_count": 97,
     "metadata": {},
     "output_type": "execute_result"
    }
   ],
   "source": [
    "function sample_s!(sₙ)\n",
    "    N, K = size(sₙ)\n",
    "    η = Matrix{Float64}(undef, N, K)\n",
    "\n",
    "    @inbounds for n = 1:N\n",
    "        @simd for k = 1:K\n",
    "            η[n, k] = x[n]*log(λ[k]) - λ[k] + log(p[k])\n",
    "        end\n",
    "        logsum_η = -logsumexp(η[n, :])\n",
    "        @simd for k = 1:K\n",
    "            η[n, k] = exp(η[n, k] + logsum_η)\n",
    "        end\n",
    "        sₙ[n, :] .= rand(Multinomial(1, η[n, :]))\n",
    "    end\n",
    "end"
   ]
  },
  {
   "cell_type": "code",
   "execution_count": null,
   "metadata": {},
   "outputs": [],
   "source": [
    "function sample_p(sₙ)\n",
    "    N, K = size(sₙ)\n",
    "    α̂ = Vector{Float64}(undef, K)\n",
    "    @inbounds for k = 1:K\n",
    "        α̂[k] = sum(sₙ[:, k]) + α[k]\n",
    "    end\n",
    "    rand(Dirichlet(α̂))\n",
    "end"
   ]
  },
  {
   "cell_type": "code",
   "execution_count": null,
   "metadata": {},
   "outputs": [],
   "source": [
    "function sample_λ(sₙ)\n",
    "    K = size(sₙ, 2)\n",
    "    @inbounds for k = 1:K\n",
    "        â = sum(sₙ[:, k] .* x) + a\n",
    "        b̂ = sum(sₙ[:, k]) + b\n",
    "        λ[k] = rand(Gamma(â, 1/b̂))\n",
    "    end"
   ]
  },
  {
   "cell_type": "code",
   "execution_count": 87,
   "metadata": {
    "scrolled": true
   },
   "outputs": [],
   "source": [
    "for i = 1:maxiter\n",
    "    fill!(sₙ, 0)\n",
    "    \n",
    "    # 4.37でsₙをサンプル\n",
    "    sample_s!(sₙ)\n",
    "    \n",
    "    # 4.41でλₖをサンプル\n",
    "    λ = sample_λ(sₙ)\n",
    "    p = sample_p()\n",
    "    for k = 1:K\n",
    "        â = sum(sₙ[:, k] .* x) + a\n",
    "        b̂ = sum(sₙ[:, k]) + b\n",
    "        λ[k] = rand(Gamma(â, 1/b̂))\n",
    "        λ_history[i+1, k] = λ[k]\n",
    "    end\n",
    "\n",
    "    \n",
    "#     4.44でπをサンプル\n",
    "    α̂ = Vector{Float64}(undef, K)\n",
    "    for k = 1:K\n",
    "        α̂[k] = sum(sₙ[:, k]) + α[k]\n",
    "    end\n",
    "    p = rand(Dirichlet(α̂))\n",
    "    p_history[i+1, :] .= p\n",
    "    \n",
    "    ll[i] = sum(logpdf.(MixtureModel(Poisson, λ, p), x))\n",
    "end"
   ]
  },
  {
   "cell_type": "code",
   "execution_count": null,
   "metadata": {},
   "outputs": [],
   "source": [
    "function sample_p(sₙ)\n",
    "    N, K = size(sₙ)\n",
    "    α̂ = Vector{Float64}(undef, K)\n",
    "    @inbounds for k = 1:K\n",
    "        α̂[k] = sum(sₙ[:, k]) + α[k]\n",
    "    end\n",
    "    rand(Dirichlet(α̂))\n",
    "end"
   ]
  },
  {
   "cell_type": "code",
   "execution_count": 89,
   "metadata": {
    "scrolled": false
   },
   "outputs": [
    {
     "data": {
      "image/png": "[encoded data removed]",
      "text/plain": [
       "Figure(PyObject <Figure size 500x700 with 3 Axes>)"
      ]
     },
     "metadata": {},
     "output_type": "display_data"
    },
    {
     "data": {
      "text/plain": [
       "PyObject <matplotlib.collections.LineCollection object at 0x0000000046691760>"
      ]
     },
     "execution_count": 89,
     "metadata": {},
     "output_type": "execute_result"
    }
   ],
   "source": [
    "fig, ax = plt.subplots(3, 1, figsize=(5, 7))\n",
    "for k = 1:K\n",
    "    ax[1].hist(λ_history[1500:end, k], density=1, bins=20)\n",
    "end\n",
    "ax[1].vlines(true_λ, 0, ax[1].get_ylim()[2], color=\"k\", linestyle=\"--\")\n",
    "for k = 1:K\n",
    "    ax[2].hist(p_history[1500:end, k], density=1, bins=20)\n",
    "end\n",
    "ax[2].vlines(true_p, 0, ax[2].get_ylim()[2], color=\"k\", linestyle=\"--\")"
   ]
  },
  {
   "cell_type": "code",
   "execution_count": null,
   "metadata": {},
   "outputs": [],
   "source": [
    "axes.get_ylim()"
   ]
  }
 ],
 "metadata": {
  "kernelspec": {
   "display_name": "Julia1.5.3(10 threads) 1.5.3",
   "language": "julia",
   "name": "julia1.5.3(10-threads)-1.5"
  },
  "language_info": {
   "file_extension": ".jl",
   "mimetype": "application/julia",
   "name": "julia",
   "version": "1.5.3"
  },
  "toc": {
   "base_numbering": 1,
   "nav_menu": {},
   "number_sections": true,
   "sideBar": true,
   "skip_h1_title": false,
   "title_cell": "Table of Contents",
   "title_sidebar": "Contents",
   "toc_cell": false,
   "toc_position": {},
   "toc_section_display": true,
   "toc_window_display": false
  }
 },
 "nbformat": 4,
 "nbformat_minor": 4
}
