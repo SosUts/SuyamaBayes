{
 "cells": [
  {
   "cell_type": "code",
   "execution_count": 3,
   "metadata": {},
   "outputs": [],
   "source": [
    "using Random\n",
    "# using BenchmarkTools\n",
    "using PyPlot\n",
    "using Distributions\n",
    "\n",
    "using StatsFuns"
   ]
  },
  {
   "cell_type": "code",
   "execution_count": 4,
   "metadata": {},
   "outputs": [
    {
     "data": {
      "text/plain": [
       "init_p (generic function with 1 method)"
      ]
     },
     "execution_count": 4,
     "metadata": {},
     "output_type": "execute_result"
    }
   ],
   "source": [
    "init_α(K) = rand(Uniform(0, 100), K)\n",
    "init_λ(a, b, K) = rand(Gamma(a, 1/b), K)\n",
    "init_p(α) = rand(Dirichlet(α))"
   ]
  },
  {
   "cell_type": "code",
   "execution_count": 5,
   "metadata": {},
   "outputs": [
    {
     "data": {
      "text/plain": [
       "sample_s (generic function with 1 method)"
      ]
     },
     "execution_count": 5,
     "metadata": {},
     "output_type": "execute_result"
    }
   ],
   "source": [
    "function sample_s(model, data)\n",
    "    N = length(data)\n",
    "    K = length(model.components)\n",
    "    \n",
    "    sₙ = Matrix{Int}(undef, N, K)\n",
    "    η = Matrix{Float64}(undef, N, K)\n",
    "    λ = [Distributions.params(comp)[1] for comp = model.components]\n",
    "    p = probs(model)\n",
    "    @inbounds for n = 1:N\n",
    "        @simd for k = 1:K\n",
    "            η[n, k] = data[n]*log(λ[k]) - λ[k] + log(p[k])\n",
    "        end\n",
    "        logsum_η = -logsumexp(η[n, :])\n",
    "        @simd for k = 1:K\n",
    "            η[n, k] = exp(η[n, k] + logsum_η)\n",
    "        end\n",
    "        sₙ[n, :] .= rand(Multinomial(1, η[n, :]))\n",
    "    end\n",
    "    sₙ\n",
    "end"
   ]
  },
  {
   "cell_type": "code",
   "execution_count": 6,
   "metadata": {},
   "outputs": [
    {
     "data": {
      "text/plain": [
       "sample_λ (generic function with 1 method)"
      ]
     },
     "execution_count": 6,
     "metadata": {},
     "output_type": "execute_result"
    }
   ],
   "source": [
    "function sample_λ(model, prior, sₙ, toy_data)\n",
    "    K = size(sₙ, 2)\n",
    "    λ = Vector{Float64}(undef, K)\n",
    "    @inbounds for k = 1:K\n",
    "        â = sum(sₙ[:, k] .* toy_data) + prior.a[k]\n",
    "        b̂ = sum(sₙ[:, k]) + prior.b[k]\n",
    "        λ[k] = rand(Gamma(â, 1/b̂))\n",
    "    end\n",
    "    λ\n",
    "end"
   ]
  },
  {
   "cell_type": "code",
   "execution_count": 7,
   "metadata": {},
   "outputs": [
    {
     "data": {
      "text/plain": [
       "sample_p (generic function with 1 method)"
      ]
     },
     "execution_count": 7,
     "metadata": {},
     "output_type": "execute_result"
    }
   ],
   "source": [
    "function sample_p(model, prior, sₙ)\n",
    "    N, K = size(sₙ)\n",
    "    α̂ = Vector{Float64}(undef, K)\n",
    "    @inbounds for k = 1:K\n",
    "        α̂[k] = sum(sₙ[:, k]) + prior.α[k]\n",
    "    end\n",
    "    rand(Dirichlet(α̂))\n",
    "end"
   ]
  },
  {
   "cell_type": "code",
   "execution_count": null,
   "metadata": {},
   "outputs": [],
   "source": []
  },
  {
   "cell_type": "code",
   "execution_count": null,
   "metadata": {},
   "outputs": [],
   "source": []
  },
  {
   "cell_type": "code",
   "execution_count": 8,
   "metadata": {},
   "outputs": [],
   "source": [
    "mutable struct PriorParameters\n",
    "    a::AbstractVector\n",
    "    b::AbstractVector\n",
    "    α::AbstractVector\n",
    "    PriorParameters() = new()\n",
    "    PriorParameters(a, b, α) = new(a, b, α)\n",
    "end\n",
    "\n",
    "# mutable struct PriorParameters\n",
    "#     a::Float64\n",
    "#     b::Float64\n",
    "#     α::AbstractVector\n",
    "#     PriorParameters() = new()\n",
    "#     PriorParameters(a, b, α) = new(a, b, α)\n",
    "# end"
   ]
  },
  {
   "cell_type": "code",
   "execution_count": 9,
   "metadata": {},
   "outputs": [],
   "source": [
    "mutable struct PoissionMixtureModel\n",
    "    model::MixtureModel{Univariate,Discrete,Poisson,Float64}\n",
    "    λs::AbstractMatrix\n",
    "    ps::AbstractMatrix\n",
    "    loglikelihoods::AbstractVector\n",
    "    PoissionMixtureModel() = new()\n",
    "end"
   ]
  },
  {
   "cell_type": "code",
   "execution_count": 10,
   "metadata": {},
   "outputs": [
    {
     "data": {
      "text/plain": [
       "generate_toy_data (generic function with 2 methods)"
      ]
     },
     "execution_count": 10,
     "metadata": {},
     "output_type": "execute_result"
    }
   ],
   "source": [
    "# function init_model(;K::Int = 3, a = 1.0, b = 0.01)\n",
    "#     α = init_α(K)\n",
    "#     λ = init_λ(a, b, K)\n",
    "#     p = init_p(α)\n",
    "#     prior = PriorParameters(a, b, α)\n",
    "#     prior, MixtureModel(Poisson, λ, p)\n",
    "# end\n",
    "\n",
    "function init_model(;K::Int = 3, a = 1.0, b = 0.01)\n",
    "    α = init_α(K)\n",
    "    λ = init_λ(a, b, K)\n",
    "    p = init_p(α)\n",
    "    prior = PriorParameters(ones(K) .* a, ones(K) .*b, α)\n",
    "    prior, MixtureModel(Poisson, λ, p)\n",
    "end\n",
    "\n",
    "\n",
    "function generate_toy_data(\n",
    "        N::Int = 10^4;\n",
    "        true_λ::AbstractVector = [100., 50., 15.],\n",
    "        true_p::AbstractVector = [0.5, 0.2, 0.3]\n",
    "    )\n",
    "    true_data = MixtureModel(Poisson, true_λ, true_p)\n",
    "    toy_data = rand(true_data, N)\n",
    "    true_data, toy_data\n",
    "end"
   ]
  },
  {
   "cell_type": "code",
   "execution_count": 11,
   "metadata": {},
   "outputs": [
    {
     "data": {
      "text/plain": [
       "gibbs! (generic function with 1 method)"
      ]
     },
     "execution_count": 11,
     "metadata": {},
     "output_type": "execute_result"
    }
   ],
   "source": [
    "function gibbs!(\n",
    "        pmm::PoissionMixtureModel,\n",
    "        prior::PriorParameters,\n",
    "        toy_data::AbstractVector;\n",
    "        maxiter::Int = 2000\n",
    "    )\n",
    "    model = pmm.model\n",
    "    N = length(toy_data)\n",
    "    K = length(model.components)\n",
    "    \n",
    "    pmm.λs = Matrix{Float64}(undef, maxiter, K)\n",
    "    pmm.ps = Matrix{Float64}(undef, maxiter, K)\n",
    "    pmm.loglikelihoods = Vector{Float64}(undef, maxiter)\n",
    "    \n",
    "    for k = 1:K\n",
    "        pmm.λs[1, k] = model.components[k].λ\n",
    "        pmm.ps[1, k] = probs(model)[k]\n",
    "    end\n",
    "    pmm.loglikelihoods[1] = sum(logpdf.(model, toy_data))\n",
    "    \n",
    "    @inbounds @simd for i = 1:maxiter\n",
    "    \n",
    "        sₙ = sample_s(model, toy_data)\n",
    "        λ = sample_λ(model, prior, sₙ, toy_data)\n",
    "        p = sample_p(model, prior, sₙ)\n",
    "        \n",
    "        pmm.λs[i, :] .= λ\n",
    "        pmm.ps[i, :] .= p\n",
    "        model = MixtureModel(Poisson, λ, p)\n",
    "        pmm.loglikelihoods[i] = sum(logpdf.(model, toy_data))\n",
    "        pmm.model = model\n",
    "        fill!(sₙ, 0)\n",
    "    end\n",
    "    pmm\n",
    "end"
   ]
  },
  {
   "cell_type": "code",
   "execution_count": 1,
   "metadata": {},
   "outputs": [
    {
     "name": "stderr",
     "output_type": "stream",
     "text": [
      "┌ Info: Precompiling SuyamaBayes [592efa15-fe82-42c5-96b5-6340eab1e32d]\n",
      "└ @ Base loading.jl:1278\n"
     ]
    }
   ],
   "source": [
    "using SuyamaBayes"
   ]
  },
  {
   "cell_type": "code",
   "execution_count": 3,
   "metadata": {},
   "outputs": [
    {
     "data": {
      "text/plain": [
       "MixtureModel{Distributions.Poisson}(K = 3)\n",
       "components[1] (prior = 0.3975): Distributions.Poisson{Float64}(λ=1.6390554418712486)\n",
       "components[2] (prior = 0.5215): Distributions.Poisson{Float64}(λ=416.4913956804548)\n",
       "components[3] (prior = 0.0810): Distributions.Poisson{Float64}(λ=64.01703071600323)\n"
      ]
     },
     "execution_count": 3,
     "metadata": {},
     "output_type": "execute_result"
    }
   ],
   "source": [
    "a = 1.\n",
    "b = 0.01\n",
    "N = 2000\n",
    "true_λ = [100., 50., 15.]\n",
    "true_p = [0.5, 0.2, 0.3]\n",
    "true_model, toy_data = generate_toy_data(N)\n",
    "prior, model = init_model(a = a, b = b)\n",
    "\n",
    "pmm = PoissionMixtureModel()\n",
    "pmm.model = model"
   ]
  },
  {
   "cell_type": "code",
   "execution_count": 5,
   "metadata": {},
   "outputs": [
    {
     "data": {
      "text/plain": [
       "PoissionMixtureModel(MixtureModel{Distributions.Poisson}(K = 3)\n",
       "components[1] (prior = 0.3060): Distributions.Poisson{Float64}(λ=15.543476851389809)\n",
       "components[2] (prior = 0.5042): Distributions.Poisson{Float64}(λ=100.36860377907574)\n",
       "components[3] (prior = 0.1897): Distributions.Poisson{Float64}(λ=49.42264238187234)\n",
       ", [13.442802564149083 286.7313806192081 78.09323105352114; 16.039163830357317 119.6849933037548 86.08094286064417; … ; 15.312116202794448 100.03510329945014 50.079197204429775; 15.543476851389809 100.36860377907574 49.42264238187234], [0.23118752226910888 0.03080516901141716 0.7380073087194738; 0.3130593227996757 0.02930909964348737 0.6576315775568369; … ; 0.29418247855052876 0.50903992048552 0.19677760096395136; 0.30602729961678116 0.5042485719381367 0.18972412844508205], [-13283.949371547315, -12153.716266847865, -11805.496310388, -11205.296552282665, -10175.864585850144, -9035.371295185909, -8789.418070137886, -8787.51435918143, -8784.995094854043, -8786.98520858035  …  -8785.907105107799, -8788.20006544008, -8783.571118314396, -8784.358666920629, -8787.198902375916, -8785.077202194409, -8783.891396664585, -8784.58359299615, -8783.896596472583, -8784.744706066096])"
      ]
     },
     "execution_count": 5,
     "metadata": {},
     "output_type": "execute_result"
    }
   ],
   "source": [
    "gibbs!(pmm, prior, toy_data, maxiter=2000)"
   ]
  },
  {
   "cell_type": "code",
   "execution_count": 9,
   "metadata": {},
   "outputs": [],
   "source": [
    "using PyPlot\n",
    "using Distributions"
   ]
  },
  {
   "cell_type": "code",
   "execution_count": 10,
   "metadata": {},
   "outputs": [
    {
     "data": {
      "image/png": "[encoded data removed]",
      "text/plain": [
       "Figure(PyObject <Figure size 500x700 with 3 Axes>)"
      ]
     },
     "metadata": {},
     "output_type": "display_data"
    }
   ],
   "source": [
    "fig, ax = plt.subplots(3, 1, figsize=(5, 7))\n",
    "K = length(probs(pmm.model))\n",
    "ax[1].set_title(\"Posterior distribution of λ\")\n",
    "for k = 1:K\n",
    "    ax[1].hist(pmm.λs[1000:end, k], density=1, bins=20)\n",
    "end\n",
    "ax[1].vlines(true_λ, 0, ax[1].get_ylim()[2], color=\"k\", linestyle=\"--\")\n",
    "\n",
    "ax[2].set_title(\"Posterior distribution of p\")\n",
    "for k = 1:K\n",
    "    ax[2].hist(pmm.ps[1000:end, k], density=1, bins=20)\n",
    "end\n",
    "ax[2].vlines(true_p, 0, ax[2].get_ylim()[2], color=\"k\", linestyle=\"--\")\n",
    "\n",
    "# ax[3].set_title(\"Log likelihood\")\n",
    "ax[3].set(title=\"Log likelihood\", xlabel=\"Iteration\")\n",
    "ax[3].plot(1:1000, pmm.loglikelihoods[1:1000])\n",
    "\n",
    "plt.tight_layout()"
   ]
  },
  {
   "cell_type": "code",
   "execution_count": null,
   "metadata": {},
   "outputs": [],
   "source": []
  }
 ],
 "metadata": {
  "kernelspec": {
   "display_name": "Julia 1.5.3",
   "language": "julia",
   "name": "julia-1.5"
  },
  "language_info": {
   "file_extension": ".jl",
   "mimetype": "application/julia",
   "name": "julia",
   "version": "1.5.3"
  },
  "latex_envs": {
   "LaTeX_envs_menu_present": true,
   "autoclose": false,
   "autocomplete": true,
   "bibliofile": "biblio.bib",
   "cite_by": "apalike",
   "current_citInitial": 1,
   "eqLabelWithNumbers": true,
   "eqNumInitial": 1,
   "hotkeys": {
    "equation": "Ctrl-E",
    "itemize": "Ctrl-I"
   },
   "labels_anchors": false,
   "latex_user_defs": false,
   "report_style_numbering": false,
   "user_envs_cfg": false
  },
  "toc": {
   "base_numbering": 1,
   "nav_menu": {},
   "number_sections": true,
   "sideBar": true,
   "skip_h1_title": false,
   "title_cell": "Table of Contents",
   "title_sidebar": "Contents",
   "toc_cell": false,
   "toc_position": {},
   "toc_section_display": true,
   "toc_window_display": false
  }
 },
 "nbformat": 4,
 "nbformat_minor": 4
}
