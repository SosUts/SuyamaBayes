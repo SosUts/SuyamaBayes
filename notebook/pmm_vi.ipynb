{
 "cells": [
  {
   "cell_type": "code",
   "execution_count": 5,
   "id": "worse-juvenile",
   "metadata": {},
   "outputs": [],
   "source": [
    "using Distributions\n",
    "using Random\n",
    "using PyPlot\n",
    "using SpecialFunctions"
   ]
  },
  {
   "cell_type": "code",
   "execution_count": 6,
   "id": "happy-communist",
   "metadata": {},
   "outputs": [],
   "source": [
    "using StatsFuns"
   ]
  },
  {
   "cell_type": "code",
   "execution_count": 2,
   "id": "touched-tongue",
   "metadata": {},
   "outputs": [
    {
     "data": {
      "text/plain": [
       "init_p (generic function with 1 method)"
      ]
     },
     "execution_count": 2,
     "metadata": {},
     "output_type": "execute_result"
    }
   ],
   "source": [
    "init_α(K) = rand(Uniform(0, 100), K)\n",
    "init_λ(a, b, K) = rand(Gamma(a, 1/b), K)\n",
    "init_p(α) = rand(Dirichlet(α))"
   ]
  },
  {
   "cell_type": "code",
   "execution_count": 3,
   "id": "dynamic-commonwealth",
   "metadata": {},
   "outputs": [
    {
     "data": {
      "text/plain": [
       "generate_toy_data (generic function with 2 methods)"
      ]
     },
     "execution_count": 3,
     "metadata": {},
     "output_type": "execute_result"
    }
   ],
   "source": [
    "function init_model(;K::Int = 3, a = 1.0, b = 0.01)\n",
    "    α = init_α(K)\n",
    "    λ = init_λ(a, b, K)\n",
    "    p = init_p(α)\n",
    "    prior = PriorParameters(a, b, α)\n",
    "    prior, MixtureModel(Poisson, λ, p)\n",
    "end\n",
    "\n",
    "function generate_toy_data(\n",
    "        N::Int = 10^4;\n",
    "        true_λ::AbstractVector = [100., 50., 15.],\n",
    "        true_p::AbstractVector = [0.5, 0.2, 0.3]\n",
    "    )\n",
    "    true_data = MixtureModel(Poisson, true_λ, true_p)\n",
    "    toy_data = rand(true_data, N)\n",
    "    true_data, toy_data\n",
    "end"
   ]
  },
  {
   "cell_type": "code",
   "execution_count": 4,
   "id": "welcome-amplifier",
   "metadata": {
    "scrolled": true
   },
   "outputs": [
    {
     "data": {
      "text/plain": [
       "(MixtureModel{Poisson}(K = 3)\n",
       "components[1] (prior = 0.5000): Poisson{Float64}(λ=100.0)\n",
       "components[2] (prior = 0.2000): Poisson{Float64}(λ=50.0)\n",
       "components[3] (prior = 0.3000): Poisson{Float64}(λ=15.0)\n",
       ", [20, 18, 87, 96, 23, 103, 95, 115, 8, 12  …  105, 102, 101, 114, 48, 50, 105, 98, 87, 16])"
      ]
     },
     "execution_count": 4,
     "metadata": {},
     "output_type": "execute_result"
    }
   ],
   "source": [
    "a = 1.\n",
    "b = 0.01\n",
    "N = 2000\n",
    "true_λ = [100., 50., 15.]\n",
    "true_p = [0.5, 0.2, 0.3]\n",
    "true_model, toy_data = generate_toy_data(N)\n",
    "# prior, model = init_model(a = a, b = b)"
   ]
  },
  {
   "cell_type": "code",
   "execution_count": 13,
   "id": "promising-range",
   "metadata": {},
   "outputs": [
    {
     "data": {
      "text/plain": [
       "3-element Array{Float64,1}:\n",
       " 0.5\n",
       " 0.2\n",
       " 0.3"
      ]
     },
     "execution_count": 13,
     "metadata": {},
     "output_type": "execute_result"
    }
   ],
   "source": [
    "K = 3\n",
    "N = length(toy_data)\n",
    "\n",
    "sₙ = Matrix{Int}(undef, N, K)\n",
    "η = Matrix{Float64}(undef, N, K)\n",
    "λ = [Distributions.params(comp)[1] for comp = model.components]\n",
    "p = probs(model)"
   ]
  },
  {
   "cell_type": "code",
   "execution_count": null,
   "id": "supposed-tutorial",
   "metadata": {},
   "outputs": [],
   "source": [
    "â = []\n",
    "for k = 1:K\n",
    "    â[k] = "
   ]
  },
  {
   "cell_type": "code",
   "execution_count": null,
   "id": "placed-details",
   "metadata": {},
   "outputs": [],
   "source": [
    "@inbounds for n = 1:N\n",
    "    @simd for k = 1:K\n",
    "        η[n, k] = toy_data[n]*\n",
    "    end\n",
    "    logsum_η = -logsumexp(η[n, :])\n",
    "    @simd for k = 1:K\n",
    "        η[n, k] = exp(η[n, k] + logsum_η)\n",
    "    end\n",
    "    sₙ[n, :] .= rand(Multinomial(1, η[n, :]))\n",
    "end\n",
    "sₙ"
   ]
  },
  {
   "cell_type": "code",
   "execution_count": null,
   "id": "configured-cigarette",
   "metadata": {},
   "outputs": [],
   "source": []
  },
  {
   "cell_type": "code",
   "execution_count": null,
   "id": "possible-charger",
   "metadata": {},
   "outputs": [],
   "source": []
  },
  {
   "cell_type": "code",
   "execution_count": null,
   "id": "northern-request",
   "metadata": {},
   "outputs": [],
   "source": [
    "qλ =\n",
    "qp = "
   ]
  },
  {
   "cell_type": "code",
   "execution_count": 2,
   "id": "linear-humanitarian",
   "metadata": {},
   "outputs": [
    {
     "data": {
      "text/plain": [
       "1000"
      ]
     },
     "execution_count": 2,
     "metadata": {},
     "output_type": "execute_result"
    }
   ],
   "source": [
    "N = 10^3\n",
    "maxiter = 1000"
   ]
  },
  {
   "cell_type": "code",
   "execution_count": null,
   "id": "meaning-drama",
   "metadata": {},
   "outputs": [],
   "source": [
    "function sample_s(model, data)\n",
    "    N = length(data)\n",
    "    K = length(model.components)\n",
    "    \n",
    "    sₙ = Matrix{Int}(undef, N, K)\n",
    "    η = Matrix{Float64}(undef, N, K)\n",
    "    λ = [Distributions.params(comp)[1] for comp = model.components]\n",
    "    p = probs(model)\n",
    "    @inbounds for n = 1:N\n",
    "        @simd for k = 1:K\n",
    "            η[n, k] = data[n]*log(λ[k]) - λ[k] + log(p[k])\n",
    "        end\n",
    "        logsum_η = -logsumexp(η[n, :])\n",
    "        @simd for k = 1:K\n",
    "            η[n, k] = exp(η[n, k] + logsum_η)\n",
    "        end\n",
    "        sₙ[n, :] .= rand(Multinomial(1, η[n, :]))\n",
    "    end\n",
    "    sₙ\n",
    "end"
   ]
  },
  {
   "cell_type": "code",
   "execution_count": null,
   "id": "outside-loading",
   "metadata": {},
   "outputs": [],
   "source": [
    "\n",
    "for n = 1:maxiter"
   ]
  }
 ],
 "metadata": {
  "kernelspec": {
   "display_name": "Julia 1.5.3",
   "language": "julia",
   "name": "julia-1.5"
  },
  "language_info": {
   "file_extension": ".jl",
   "mimetype": "application/julia",
   "name": "julia",
   "version": "1.5.3"
  },
  "latex_envs": {
   "LaTeX_envs_menu_present": true,
   "autoclose": false,
   "autocomplete": true,
   "bibliofile": "biblio.bib",
   "cite_by": "apalike",
   "current_citInitial": 1,
   "eqLabelWithNumbers": true,
   "eqNumInitial": 1,
   "hotkeys": {
    "equation": "Ctrl-E",
    "itemize": "Ctrl-I"
   },
   "labels_anchors": false,
   "latex_user_defs": false,
   "report_style_numbering": false,
   "user_envs_cfg": false
  }
 },
 "nbformat": 4,
 "nbformat_minor": 5
}
