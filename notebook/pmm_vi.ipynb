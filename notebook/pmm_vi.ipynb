{
 "cells": [
  {
   "cell_type": "code",
   "execution_count": 1,
   "metadata": {},
   "outputs": [],
   "source": [
    "using Distributions\n",
    "using Random\n",
    "using PyPlot\n",
    "using SpecialFunctions"
   ]
  },
  {
   "cell_type": "code",
   "execution_count": 2,
   "metadata": {},
   "outputs": [],
   "source": [
    "using StatsFuns"
   ]
  },
  {
   "cell_type": "code",
   "execution_count": 3,
   "metadata": {},
   "outputs": [
    {
     "data": {
      "text/plain": [
       "init_p (generic function with 1 method)"
      ]
     },
     "execution_count": 3,
     "metadata": {},
     "output_type": "execute_result"
    }
   ],
   "source": [
    "init_α(K) = rand(Uniform(0, 100), K)\n",
    "init_λ(a, b, K) = rand(Gamma(a, 1/b), K)\n",
    "init_p(α) = rand(Dirichlet(α))"
   ]
  },
  {
   "cell_type": "code",
   "execution_count": 4,
   "metadata": {},
   "outputs": [],
   "source": [
    "mutable struct PriorParameters\n",
    "    a::AbstractVector\n",
    "    b::AbstractVector\n",
    "    α::AbstractVector\n",
    "    PriorParameters() = new()\n",
    "    PriorParameters(a, b, α) = new(a, b, α)\n",
    "end\n",
    "\n",
    "mutable struct PoissionMixtureModel\n",
    "    model::MixtureModel{Univariate,Discrete,Poisson,Float64}\n",
    "    λs::AbstractMatrix\n",
    "    ps::AbstractMatrix\n",
    "    loglikelihoods::AbstractVector\n",
    "    PoissionMixtureModel() = new()\n",
    "end"
   ]
  },
  {
   "cell_type": "code",
   "execution_count": 5,
   "metadata": {},
   "outputs": [
    {
     "data": {
      "text/plain": [
       "generate_toy_data (generic function with 2 methods)"
      ]
     },
     "execution_count": 5,
     "metadata": {},
     "output_type": "execute_result"
    }
   ],
   "source": [
    "function init_model(;K::Int = 3, a = 1.0, b = 0.01)\n",
    "    α = init_α(K)\n",
    "    λ = init_λ(a, b, K)\n",
    "    p = init_p(α)\n",
    "    prior = PriorParameters(ones(K) .* a, ones(K) .*b, α)\n",
    "    prior, MixtureModel(Poisson, λ, p)\n",
    "end\n",
    "\n",
    "function generate_toy_data(\n",
    "        N::Int = 10^4;\n",
    "        true_λ::AbstractVector = [100., 50., 15.],\n",
    "        true_p::AbstractVector = [0.5, 0.2, 0.3]\n",
    "    )\n",
    "    true_data = MixtureModel(Poisson, true_λ, true_p)\n",
    "    toy_data = rand(true_data, N)\n",
    "    true_data, toy_data\n",
    "end"
   ]
  },
  {
   "cell_type": "code",
   "execution_count": 6,
   "metadata": {
    "scrolled": true
   },
   "outputs": [
    {
     "data": {
      "text/plain": [
       "(PriorParameters([1.0, 1.0, 1.0], [0.01, 0.01, 0.01], [14.54813342936443, 62.14951368703776, 64.67463631647776]), MixtureModel{Poisson}(K = 3)\n",
       "components[1] (prior = 0.1154): Poisson{Float64}(λ=248.19363623611744)\n",
       "components[2] (prior = 0.3881): Poisson{Float64}(λ=264.27632883135584)\n",
       "components[3] (prior = 0.4965): Poisson{Float64}(λ=52.633831880064804)\n",
       ")"
      ]
     },
     "execution_count": 6,
     "metadata": {},
     "output_type": "execute_result"
    }
   ],
   "source": [
    "N = 10^3\n",
    "maxiter = 1000\n",
    "\n",
    "a = 1.\n",
    "b = 0.01\n",
    "N = 2000\n",
    "true_λ = [100., 50., 15.]\n",
    "true_p = [0.5, 0.2, 0.3]\n",
    "true_model, toy_data = generate_toy_data(N)\n",
    "prior, model = init_model(a = a, b = b)"
   ]
  },
  {
   "cell_type": "code",
   "execution_count": 7,
   "metadata": {},
   "outputs": [
    {
     "data": {
      "text/plain": [
       "update_s (generic function with 1 method)"
      ]
     },
     "execution_count": 7,
     "metadata": {},
     "output_type": "execute_result"
    }
   ],
   "source": [
    "function update_s(prior, data)\n",
    "    N = length(data)\n",
    "    K = length(prior.α)\n",
    "    \n",
    "    η = Matrix{Float64}(undef, N, K)\n",
    "    \n",
    "    a = prior.a\n",
    "    b = prior.b\n",
    "    α = prior.α\n",
    "    λ = a ./ b\n",
    "    lnλ = digamma.(a) .- digamma.(b)\n",
    "    lnp = [digamma(α[k]) + digamma(sum(α)) for k = 1:K]\n",
    "    \n",
    "    @inbounds for n = 1:N\n",
    "        @simd for k = 1:K\n",
    "            η[n, k] = data[n]*lnλ[k] - λ[k] + lnp[k]\n",
    "        end\n",
    "        logsum_η = -logsumexp(η[n, :])\n",
    "        @simd for k = 1:K\n",
    "            η[n, k] = exp(η[n, k] + logsum_η)\n",
    "        end\n",
    "    end\n",
    "    η\n",
    "end"
   ]
  },
  {
   "cell_type": "code",
   "execution_count": 8,
   "metadata": {},
   "outputs": [
    {
     "data": {
      "text/plain": [
       "update_λ (generic function with 1 method)"
      ]
     },
     "execution_count": 8,
     "metadata": {},
     "output_type": "execute_result"
    }
   ],
   "source": [
    "function update_λ(prior, η, toy_data)\n",
    "    K = size(η, 2)\n",
    "    â = Vector{Float64}(undef, K)\n",
    "    b̂ = Vector{Float64}(undef, K)\n",
    "    a = prior.a\n",
    "    b = prior.b\n",
    "    @inbounds for k = 1:K\n",
    "        â[k] = sum(η[:, k] .* toy_data) + a[k]\n",
    "        b̂[k] = sum(η[:, k]) + b[k]\n",
    "    end\n",
    "    â, b̂\n",
    "end"
   ]
  },
  {
   "cell_type": "code",
   "execution_count": 9,
   "metadata": {},
   "outputs": [
    {
     "data": {
      "text/plain": [
       "update_p (generic function with 1 method)"
      ]
     },
     "execution_count": 9,
     "metadata": {},
     "output_type": "execute_result"
    }
   ],
   "source": [
    "function update_p(prior, η)\n",
    "    N, K = size(η)\n",
    "    α̂ = Vector{Float64}(undef, K)\n",
    "    α = prior.α\n",
    "    @inbounds for k = 1:K\n",
    "        α̂[k] = sum(η[:, k]) + α[k]\n",
    "    end\n",
    "    α̂\n",
    "end"
   ]
  },
  {
   "cell_type": "code",
   "execution_count": 10,
   "metadata": {
    "scrolled": true
   },
   "outputs": [
    {
     "data": {
      "text/plain": [
       "vi! (generic function with 1 method)"
      ]
     },
     "execution_count": 10,
     "metadata": {},
     "output_type": "execute_result"
    }
   ],
   "source": [
    "function vi!(\n",
    "        prior::PriorParameters,\n",
    "        toy_data::AbstractVector;\n",
    "        maxiter::Int = 2000\n",
    "    )\n",
    "    N = length(toy_data)\n",
    "    K = length(prior.α)\n",
    "    \n",
    "    elbo = Vector{Float64}(undef, N)\n",
    "    elbo[1] = \n",
    "    @inbounds for i = 1:maxiter\n",
    "\n",
    "        η = update_s(prior, toy_data)\n",
    "        â, b̂ = update_λ(prior, η, toy_data)\n",
    "        α̂ = update_p(prior, η)\n",
    "    \n",
    "        prior.a = â\n",
    "        prior.b = b̂\n",
    "        prior.α = α̂\n",
    "    end\n",
    "    prior\n",
    "end"
   ]
  },
  {
   "cell_type": "code",
   "execution_count": 69,
   "metadata": {},
   "outputs": [
    {
     "data": {
      "text/plain": [
       "3-element Array{Float64,1}:\n",
       " 0.983402939510257\n",
       " 0.2178826219604948\n",
       " 0.20565179496329788"
      ]
     },
     "execution_count": 69,
     "metadata": {},
     "output_type": "execute_result"
    }
   ],
   "source": [
    "x = rand(3)"
   ]
  },
  {
   "cell_type": "code",
   "execution_count": 71,
   "metadata": {},
   "outputs": [
    {
     "data": {
      "text/plain": [
       "3×3 Array{Float64,2}:\n",
       " 0.967081  0.214266   0.202239\n",
       " 0.214266  0.0474728  0.044808\n",
       " 0.202239  0.044808   0.0422927"
      ]
     },
     "execution_count": 71,
     "metadata": {},
     "output_type": "execute_result"
    }
   ],
   "source": [
    "x*x'"
   ]
  },
  {
   "cell_type": "code",
   "execution_count": null,
   "metadata": {},
   "outputs": [],
   "source": [
    "function ELBO(prior::PriorParameters)"
   ]
  },
  {
   "cell_type": "code",
   "execution_count": 66,
   "metadata": {},
   "outputs": [
    {
     "data": {
      "text/plain": [
       "PriorParameters([1.855058218721073e8, 2.0038910203847303e9, 3.9253716074316305e8], [1.2126352581768258e7, 2.0037437796117697e7, 7.836209652114021e6], [1.212643383459785e7, 2.003744387045816e7, 7.836276510921592e6])"
      ]
     },
     "execution_count": 66,
     "metadata": {},
     "output_type": "execute_result"
    }
   ],
   "source": [
    "a = 1.\n",
    "b = 0.01\n",
    "N = 20000\n",
    "true_λ = [100., 50., 15.]\n",
    "true_p = [0.5, 0.2, 0.3]\n",
    "true_model, toy_data = generate_toy_data(N)\n",
    "prior, model = init_model(a = a, b = b)\n",
    "\n",
    "vi!(prior, toy_data, maxiter=2000)"
   ]
  },
  {
   "cell_type": "code",
   "execution_count": 67,
   "metadata": {
    "scrolled": true
   },
   "outputs": [
    {
     "name": "stdout",
     "output_type": "stream",
     "text": [
      "mean(alpha[k, :]) = 0.30315967103405606\n",
      "mean(lambda[k]) = 15.29780225826073\n",
      "mean(alpha[k, :]) = 0.5009353619179082\n",
      "mean(lambda[k]) = 100.00720691374215"
     ]
    },
    {
     "data": {
      "image/png": "[encoded data removed]",
      "text/plain": [
       "Figure(PyObject <Figure size 500x700 with 2 Axes>)"
      ]
     },
     "metadata": {},
     "output_type": "display_data"
    },
    {
     "name": "stdout",
     "output_type": "stream",
     "text": [
      "\n",
      "mean(alpha[k, :]) = 0.19590496704803567\n",
      "mean(lambda[k]) = 50.092824326228566\n"
     ]
    }
   ],
   "source": [
    "fig, ax = plt.subplots(2, 1, figsize=(5, 7))\n",
    "\n",
    "alpha = rand(Dirichlet(prior.α), 10000)\n",
    "lambda = [rand(Gamma(prior.a[k], 1/prior.b[k]), 100) for k = 1:3]\n",
    "for k = 1:3\n",
    "    ax[1].hist(alpha[k, :], density=1)\n",
    "    ax[2].hist(lambda[k], density=1)\n",
    "end"
   ]
  },
  {
   "cell_type": "code",
   "execution_count": null,
   "metadata": {},
   "outputs": [],
   "source": []
  }
 ],
 "metadata": {
  "kernelspec": {
   "display_name": "Julia 1.5.3",
   "language": "julia",
   "name": "julia-1.5"
  },
  "language_info": {
   "file_extension": ".jl",
   "mimetype": "application/julia",
   "name": "julia",
   "version": "1.5.3"
  },
  "latex_envs": {
   "LaTeX_envs_menu_present": true,
   "autoclose": false,
   "autocomplete": true,
   "bibliofile": "biblio.bib",
   "cite_by": "apalike",
   "current_citInitial": 1,
   "eqLabelWithNumbers": true,
   "eqNumInitial": 1,
   "hotkeys": {
    "equation": "Ctrl-E",
    "itemize": "Ctrl-I"
   },
   "labels_anchors": false,
   "latex_user_defs": false,
   "report_style_numbering": false,
   "user_envs_cfg": false
  },
  "toc": {
   "base_numbering": 1,
   "nav_menu": {},
   "number_sections": true,
   "sideBar": true,
   "skip_h1_title": false,
   "title_cell": "Table of Contents",
   "title_sidebar": "Contents",
   "toc_cell": false,
   "toc_position": {},
   "toc_section_display": true,
   "toc_window_display": false
  }
 },
 "nbformat": 4,
 "nbformat_minor": 5
}
