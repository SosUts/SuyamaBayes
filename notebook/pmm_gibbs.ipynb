{
 "cells": [
  {
   "cell_type": "code",
   "execution_count": 1,
   "metadata": {},
   "outputs": [],
   "source": [
    "using Random\n",
    "# using BenchmarkTools\n",
    "using PyPlot\n",
    "using Distributions\n",
    "\n",
    "using StatsFuns"
   ]
  },
  {
   "cell_type": "code",
   "execution_count": 2,
   "metadata": {},
   "outputs": [
    {
     "data": {
      "text/plain": [
       "init_p (generic function with 1 method)"
      ]
     },
     "execution_count": 2,
     "metadata": {},
     "output_type": "execute_result"
    }
   ],
   "source": [
    "init_α(K) = rand(Uniform(0, 100), K)\n",
    "init_λ(a, b, K) = rand(Gamma(a, 1/b), K)\n",
    "init_p(α) = rand(Dirichlet(α))"
   ]
  },
  {
   "cell_type": "code",
   "execution_count": 3,
   "metadata": {},
   "outputs": [
    {
     "data": {
      "text/plain": [
       "sample_s (generic function with 1 method)"
      ]
     },
     "execution_count": 3,
     "metadata": {},
     "output_type": "execute_result"
    }
   ],
   "source": [
    "function sample_s(model, data)\n",
    "    N = length(data)\n",
    "    K = length(model.components)\n",
    "    \n",
    "    sₙ = Matrix{Int}(undef, N, K)\n",
    "    η = Matrix{Float64}(undef, N, K)\n",
    "    λ = [Distributions.params(comp)[1] for comp = model.components]\n",
    "    p = probs(model)\n",
    "    @inbounds for n = 1:N\n",
    "        @simd for k = 1:K\n",
    "            η[n, k] = data[n]*log(λ[k]) - λ[k] + log(p[k])\n",
    "        end\n",
    "        logsum_η = -logsumexp(η[n, :])\n",
    "        @simd for k = 1:K\n",
    "            η[n, k] = exp(η[n, k] + logsum_η)\n",
    "        end\n",
    "        sₙ[n, :] .= rand(Multinomial(1, η[n, :]))\n",
    "    end\n",
    "    sₙ\n",
    "end"
   ]
  },
  {
   "cell_type": "code",
   "execution_count": 4,
   "metadata": {},
   "outputs": [
    {
     "data": {
      "text/plain": [
       "sample_λ (generic function with 1 method)"
      ]
     },
     "execution_count": 4,
     "metadata": {},
     "output_type": "execute_result"
    }
   ],
   "source": [
    "function sample_λ(model, prior, sₙ, toy_data)\n",
    "    K = size(sₙ, 2)\n",
    "    λ = Vector{Float64}(undef, K)\n",
    "    a = prior.a\n",
    "    b = prior.b\n",
    "    @inbounds for k = 1:K\n",
    "        â = sum(sₙ[:, k] .* toy_data) + a\n",
    "        b̂ = sum(sₙ[:, k]) + b\n",
    "        λ[k] = rand(Gamma(â, 1/b̂))\n",
    "    end\n",
    "    λ\n",
    "end"
   ]
  },
  {
   "cell_type": "code",
   "execution_count": 5,
   "metadata": {},
   "outputs": [
    {
     "data": {
      "text/plain": [
       "sample_p (generic function with 1 method)"
      ]
     },
     "execution_count": 5,
     "metadata": {},
     "output_type": "execute_result"
    }
   ],
   "source": [
    "function sample_p(model, prior, sₙ)\n",
    "    N, K = size(sₙ)\n",
    "    α̂ = Vector{Float64}(undef, K)\n",
    "    α = prior.α\n",
    "    @inbounds for k = 1:K\n",
    "        α̂[k] = sum(sₙ[:, k]) + α[k]\n",
    "    end\n",
    "    rand(Dirichlet(α̂))\n",
    "end"
   ]
  },
  {
   "cell_type": "code",
   "execution_count": null,
   "metadata": {},
   "outputs": [],
   "source": []
  },
  {
   "cell_type": "code",
   "execution_count": null,
   "metadata": {},
   "outputs": [],
   "source": []
  },
  {
   "cell_type": "code",
   "execution_count": 6,
   "metadata": {},
   "outputs": [],
   "source": [
    "mutable struct PriorParameters\n",
    "    a::Float64\n",
    "    b::Float64\n",
    "    α::AbstractVector\n",
    "    PriorParameters() = new()\n",
    "    PriorParameters(a, b, α) = new(a, b, α)\n",
    "end"
   ]
  },
  {
   "cell_type": "code",
   "execution_count": 7,
   "metadata": {},
   "outputs": [],
   "source": [
    "mutable struct PoissionMixtureModel\n",
    "    model::MixtureModel{Univariate,Discrete,Poisson,Float64}\n",
    "    λs::AbstractMatrix\n",
    "    ps::AbstractMatrix\n",
    "    loglikelihoods::AbstractVector\n",
    "    PoissionMixtureModel() = new()\n",
    "end"
   ]
  },
  {
   "cell_type": "code",
   "execution_count": 8,
   "metadata": {},
   "outputs": [
    {
     "data": {
      "text/plain": [
       "generate_toy_data (generic function with 2 methods)"
      ]
     },
     "execution_count": 8,
     "metadata": {},
     "output_type": "execute_result"
    }
   ],
   "source": [
    "function init_model(;K::Int = 3, a = 1.0, b = 0.01)\n",
    "    α = init_α(K)\n",
    "    λ = init_λ(a, b, K)\n",
    "    p = init_p(α)\n",
    "    prior = PriorParameters(a, b, α)\n",
    "    prior, MixtureModel(Poisson, λ, p)\n",
    "end\n",
    "\n",
    "function generate_toy_data(\n",
    "        N::Int = 10^4;\n",
    "        true_λ::AbstractVector = [100., 50., 15.],\n",
    "        true_p::AbstractVector = [0.5, 0.2, 0.3]\n",
    "    )\n",
    "    true_data = MixtureModel(Poisson, true_λ, true_p)\n",
    "    toy_data = rand(true_data, N)\n",
    "    true_data, toy_data\n",
    "end"
   ]
  },
  {
   "cell_type": "code",
   "execution_count": 9,
   "metadata": {},
   "outputs": [
    {
     "data": {
      "text/plain": [
       "gibbs! (generic function with 1 method)"
      ]
     },
     "execution_count": 9,
     "metadata": {},
     "output_type": "execute_result"
    }
   ],
   "source": [
    "function gibbs!(\n",
    "        pmm::PoissionMixtureModel,\n",
    "        prior::PriorParameters,\n",
    "        toy_data::AbstractVector;\n",
    "        maxiter::Int = 2000\n",
    "    )\n",
    "    model = pmm.model\n",
    "    N = length(toy_data)\n",
    "    K = length(model.components)\n",
    "    \n",
    "    pmm.λs = Matrix{Float64}(undef, maxiter, K)\n",
    "    pmm.ps = Matrix{Float64}(undef, maxiter, K)\n",
    "    pmm.loglikelihoods = Vector{Float64}(undef, maxiter)\n",
    "    \n",
    "    for k = 1:K\n",
    "        pmm.λs[1, k] = model.components[k].λ\n",
    "        pmm.ps[1, k] = probs(model)[k]\n",
    "    end\n",
    "    pmm.loglikelihoods[1] = sum(logpdf.(model, toy_data))\n",
    "    \n",
    "    @inbounds @simd for i = 1:maxiter\n",
    "    \n",
    "        sₙ = sample_s(model, toy_data)\n",
    "        λ = sample_λ(model, prior, sₙ, toy_data)\n",
    "        p = sample_p(model, prior, sₙ)\n",
    "        \n",
    "        pmm.λs[i, :] .= λ\n",
    "        pmm.ps[i, :] .= p\n",
    "        model = MixtureModel(Poisson, λ, p)\n",
    "        pmm.loglikelihoods[i] = sum(logpdf.(model, toy_data))\n",
    "        pmm.model = model\n",
    "        fill!(sₙ, 0)\n",
    "    end\n",
    "    pmm\n",
    "end"
   ]
  },
  {
   "cell_type": "code",
   "execution_count": 10,
   "metadata": {
    "scrolled": true
   },
   "outputs": [
    {
     "data": {
      "text/plain": [
       "MixtureModel{Poisson}(K = 3)\n",
       "components[1] (prior = 0.3340): Poisson{Float64}(λ=3.679805099583459)\n",
       "components[2] (prior = 0.3749): Poisson{Float64}(λ=124.77259179737604)\n",
       "components[3] (prior = 0.2911): Poisson{Float64}(λ=82.96622707982978)\n"
      ]
     },
     "execution_count": 10,
     "metadata": {},
     "output_type": "execute_result"
    }
   ],
   "source": [
    "a = 1.\n",
    "b = 0.01\n",
    "N = 2000\n",
    "true_λ = [100., 50., 15.]\n",
    "true_p = [0.5, 0.2, 0.3]\n",
    "true_model, toy_data = generate_toy_data(N)\n",
    "prior, model = init_model(a = a, b = b)\n",
    "\n",
    "pmm = PoissionMixtureModel()\n",
    "pmm.model = model"
   ]
  },
  {
   "cell_type": "code",
   "execution_count": 11,
   "metadata": {},
   "outputs": [
    {
     "data": {
      "text/plain": [
       "PoissionMixtureModel(MixtureModel{Poisson}(K = 3)\n",
       "components[1] (prior = 0.2839): Poisson{Float64}(λ=15.124781971293839)\n",
       "components[2] (prior = 0.4979): Poisson{Float64}(λ=101.15610637638858)\n",
       "components[3] (prior = 0.2183): Poisson{Float64}(λ=50.311435079397185)\n",
       ", [15.041080911343085 109.06213391573098 76.14662351505834; 15.800233724781577 103.86149856569014 66.49856393772842; … ; 15.195220529360768 100.52440776486411 49.6045983045834; 15.124781971293839 101.15610637638858 50.311435079397185], [0.2958081405181575 0.23653500382288675 0.4676568556589557; 0.29364622213228603 0.36290890888039046 0.3434448689873235; … ; 0.29137966003028903 0.5068536899378654 0.20176665003184546; 0.28387126413203256 0.497863311117827 0.21826542475014032], [-10927.336115492802, -9751.862195354353, -8879.377799952825, -8790.894334681501, -8790.216001189161, -8795.67753825341, -8793.43104728762, -8789.29687202301, -8791.17652319159, -8793.93193482715  …  -8792.590092870603, -8790.454832569776, -8797.63962538982, -8791.188101626547, -8789.866643074616, -8791.15629903792, -8790.31830591159, -8795.359701942398, -8789.962880310373, -8793.729257560255])"
      ]
     },
     "execution_count": 11,
     "metadata": {},
     "output_type": "execute_result"
    }
   ],
   "source": [
    "gibbs!(pmm, prior, toy_data, maxiter=2000)"
   ]
  },
  {
   "cell_type": "code",
   "execution_count": 12,
   "metadata": {},
   "outputs": [
    {
     "data": {
      "image/png": "[encoded data removed]",
      "text/plain": [
       "Figure(PyObject <Figure size 500x700 with 3 Axes>)"
      ]
     },
     "metadata": {},
     "output_type": "display_data"
    }
   ],
   "source": [
    "fig, ax = plt.subplots(3, 1, figsize=(5, 7))\n",
    "K = length(probs(pmm.model))\n",
    "ax[1].set_title(\"Posterior distribution of λ\")\n",
    "for k = 1:K\n",
    "    ax[1].hist(pmm.λs[1000:end, k], density=1, bins=20)\n",
    "end\n",
    "ax[1].vlines(true_λ, 0, ax[1].get_ylim()[2], color=\"k\", linestyle=\"--\")\n",
    "\n",
    "ax[2].set_title(\"Posterior distribution of p\")\n",
    "for k = 1:K\n",
    "    ax[2].hist(pmm.ps[1000:end, k], density=1, bins=20)\n",
    "end\n",
    "ax[2].vlines(true_p, 0, ax[2].get_ylim()[2], color=\"k\", linestyle=\"--\")\n",
    "\n",
    "# ax[3].set_title(\"Log likelihood\")\n",
    "ax[3].set(title=\"Log likelihood\", xlabel=\"Iteration\")\n",
    "ax[3].plot(1:1000, pmm.loglikelihoods[1:1000])\n",
    "\n",
    "plt.tight_layout()"
   ]
  },
  {
   "cell_type": "code",
   "execution_count": 14,
   "metadata": {},
   "outputs": [
    {
     "data": {
      "image/png": "[encoded data removed]",
      "text/plain": [
       "Figure(PyObject <Figure size 640x480 with 1 Axes>)"
      ]
     },
     "metadata": {},
     "output_type": "display_data"
    },
    {
     "data": {
      "text/plain": [
       "([0.006879432624113474, 0.026241134751773046, 0.007517730496453904, 0.0002836879432624112, 0.0017021276595744687, 0.00716312056737589, 0.010780141843971625, 0.007092198581560287, 0.0015602836879432646, 0.0003546099290780136, 0.0019148936170212774, 0.005531914893617024, 0.014822695035460999, 0.02063829787234039, 0.016666666666666673, 0.008297872340425535, 0.00347517730496454, 0.0006382978723404271, 0.00021276595744680818, 7.092198581560271e-5], [4.0, 11.05, 18.1, 25.15, 32.2, 39.25, 46.3, 53.35, 60.4, 67.44999999999999  …  81.55, 88.6, 95.64999999999999, 102.7, 109.75, 116.8, 123.85, 130.89999999999998, 137.95, 145.0], (PyObject <matplotlib.patches.Rectangle object at 0x0000000000EDE790>, PyObject <matplotlib.patches.Rectangle object at 0x0000000000EDE610>, PyObject <matplotlib.patches.Rectangle object at 0x0000000000EDEC70>, PyObject <matplotlib.patches.Rectangle object at 0x0000000000EDEF40>, PyObject <matplotlib.patches.Rectangle object at 0x0000000000EED250>, PyObject <matplotlib.patches.Rectangle object at 0x0000000000EED520>, PyObject <matplotlib.patches.Rectangle object at 0x0000000000EED7F0>, PyObject <matplotlib.patches.Rectangle object at 0x0000000000EEDAC0>, PyObject <matplotlib.patches.Rectangle object at 0x0000000000EEDD90>, PyObject <matplotlib.patches.Rectangle object at 0x0000000000EFC0A0>, PyObject <matplotlib.patches.Rectangle object at 0x0000000000EFC370>, PyObject <matplotlib.patches.Rectangle object at 0x0000000000EFC640>, PyObject <matplotlib.patches.Rectangle object at 0x0000000000EFC910>, PyObject <matplotlib.patches.Rectangle object at 0x0000000000EFCBE0>, PyObject <matplotlib.patches.Rectangle object at 0x0000000000EFCEB0>, PyObject <matplotlib.patches.Rectangle object at 0x0000000000F0C1C0>, PyObject <matplotlib.patches.Rectangle object at 0x0000000000F0C4C0>, PyObject <matplotlib.patches.Rectangle object at 0x0000000000F0C790>, PyObject <matplotlib.patches.Rectangle object at 0x0000000000F0CA60>, PyObject <matplotlib.patches.Rectangle object at 0x0000000000F0CD30>))"
      ]
     },
     "execution_count": 14,
     "metadata": {},
     "output_type": "execute_result"
    }
   ],
   "source": [
    "hist(toy_data, density=1, bins=20)"
   ]
  },
  {
   "cell_type": "code",
   "execution_count": null,
   "metadata": {},
   "outputs": [],
   "source": []
  }
 ],
 "metadata": {
  "kernelspec": {
   "display_name": "Julia 1.5.3",
   "language": "julia",
   "name": "julia-1.5"
  },
  "language_info": {
   "file_extension": ".jl",
   "mimetype": "application/julia",
   "name": "julia",
   "version": "1.5.3"
  },
  "latex_envs": {
   "LaTeX_envs_menu_present": true,
   "autoclose": false,
   "autocomplete": true,
   "bibliofile": "biblio.bib",
   "cite_by": "apalike",
   "current_citInitial": 1,
   "eqLabelWithNumbers": true,
   "eqNumInitial": 1,
   "hotkeys": {
    "equation": "Ctrl-E",
    "itemize": "Ctrl-I"
   },
   "labels_anchors": false,
   "latex_user_defs": false,
   "report_style_numbering": false,
   "user_envs_cfg": false
  },
  "toc": {
   "base_numbering": 1,
   "nav_menu": {},
   "number_sections": true,
   "sideBar": true,
   "skip_h1_title": false,
   "title_cell": "Table of Contents",
   "title_sidebar": "Contents",
   "toc_cell": false,
   "toc_position": {},
   "toc_section_display": true,
   "toc_window_display": false
  }
 },
 "nbformat": 4,
 "nbformat_minor": 4
}
